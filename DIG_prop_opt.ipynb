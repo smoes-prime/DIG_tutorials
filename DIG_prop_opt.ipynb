{
 "cells": [
  {
   "cell_type": "markdown",
   "source": [
    "First, we load the configuration parameter and initialize a molecular graph generator."
   ],
   "metadata": {}
  },
  {
   "cell_type": "code",
   "execution_count": 1,
   "source": [
    "import json\n",
    "from dig.ggraph.method import GraphDF\n",
    "with open('config/prop_opt_plogp_config_dict.json') as f:\n",
    "    conf = json.load(f)\n",
    "runner = GraphDF()"
   ],
   "outputs": [
    {
     "output_type": "error",
     "ename": "ModuleNotFoundError",
     "evalue": "No module named 'dig'",
     "traceback": [
      "\u001b[0;31m---------------------------------------------------------------------------\u001b[0m",
      "\u001b[0;31mModuleNotFoundError\u001b[0m                       Traceback (most recent call last)",
      "\u001b[0;32m/var/folders/jk/y03q7r55245bzqgx6w3253rm0000gn/T/ipykernel_63590/1201405301.py\u001b[0m in \u001b[0;36m<module>\u001b[0;34m\u001b[0m\n\u001b[1;32m      1\u001b[0m \u001b[0;32mimport\u001b[0m \u001b[0mjson\u001b[0m\u001b[0;34m\u001b[0m\u001b[0;34m\u001b[0m\u001b[0m\n\u001b[0;32m----> 2\u001b[0;31m \u001b[0;32mfrom\u001b[0m \u001b[0mdig\u001b[0m\u001b[0;34m.\u001b[0m\u001b[0mggraph\u001b[0m\u001b[0;34m.\u001b[0m\u001b[0mmethod\u001b[0m \u001b[0;32mimport\u001b[0m \u001b[0mGraphDF\u001b[0m\u001b[0;34m\u001b[0m\u001b[0;34m\u001b[0m\u001b[0m\n\u001b[0m\u001b[1;32m      3\u001b[0m \u001b[0;32mwith\u001b[0m \u001b[0mopen\u001b[0m\u001b[0;34m(\u001b[0m\u001b[0;34m'config/prop_opt_plogp_config_dict.json'\u001b[0m\u001b[0;34m)\u001b[0m \u001b[0;32mas\u001b[0m \u001b[0mf\u001b[0m\u001b[0;34m:\u001b[0m\u001b[0;34m\u001b[0m\u001b[0;34m\u001b[0m\u001b[0m\n\u001b[1;32m      4\u001b[0m     \u001b[0mconf\u001b[0m \u001b[0;34m=\u001b[0m \u001b[0mjson\u001b[0m\u001b[0;34m.\u001b[0m\u001b[0mload\u001b[0m\u001b[0;34m(\u001b[0m\u001b[0mf\u001b[0m\u001b[0;34m)\u001b[0m\u001b[0;34m\u001b[0m\u001b[0;34m\u001b[0m\u001b[0m\n\u001b[1;32m      5\u001b[0m \u001b[0mrunner\u001b[0m \u001b[0;34m=\u001b[0m \u001b[0mGraphDF\u001b[0m\u001b[0;34m(\u001b[0m\u001b[0;34m)\u001b[0m\u001b[0;34m\u001b[0m\u001b[0;34m\u001b[0m\u001b[0m\n",
      "\u001b[0;31mModuleNotFoundError\u001b[0m: No module named 'dig'"
     ]
    }
   ],
   "metadata": {}
  },
  {
   "cell_type": "markdown",
   "source": [
    "Next, we load the pre-trained model from 'saved_ckpts/prop_opt/pretrain_plogp.pth', and start fine-tuning."
   ],
   "metadata": {}
  },
  {
   "cell_type": "code",
   "execution_count": null,
   "source": [
    "from rdkit import RDLogger\n",
    "RDLogger.DisableLog('rdApp.*')\n",
    "pretrain_path = 'saved_ckpts/prop_opt/pretrain_plogp.pth'\n",
    "lr = 0.0001\n",
    "wd = 0\n",
    "warm_up = 0\n",
    "max_iters = 200\n",
    "save_interval = 20\n",
    "save_dir = 'prop_opt_plogp'\n",
    "runner.train_prop_opt(lr=lr, wd=wd, max_iters=max_iters, warm_up=warm_up,\n",
    "    model_conf_dict=model_conf_dict, pretrain_path=pretrain_path,\n",
    "    save_interval=save_interval, save_dir=save_dir)"
   ],
   "outputs": [],
   "metadata": {}
  },
  {
   "cell_type": "markdown",
   "source": [
    "When the fine-tuning completes, we can generate molecules with high penalized logP scores with the trained model. The generated molecules are represented by a list of rdkit.Chem.Mol objects."
   ],
   "metadata": {}
  },
  {
   "cell_type": "code",
   "execution_count": null,
   "source": [
    "from dig.ggraph.evaluation import PropOptEvaluator\n",
    "checkpoint_path = 'prop_opt_plogp/prop_opt_net_199.pth'\n",
    "n_mols = 100\n",
    "mols = runner.run_prop_opt(model_conf_dict=conf['model'], checkpoint_path=checkpoint_path,\n",
    "    n_mols=n_mols, num_min_node=conf['num_min_node'], num_max_node=conf['num_max_node'],\n",
    "    temperature=conf['temperature'], atomic_num_list=conf['atom_list'])\n"
   ],
   "outputs": [],
   "metadata": {}
  },
  {
   "cell_type": "markdown",
   "source": [
    "Finally, we can call the evaluator to find the molecules with top-3 penalized logP scores among all generated molecules."
   ],
   "metadata": {}
  },
  {
   "cell_type": "code",
   "execution_count": null,
   "source": [
    "from dig.ggraph.evaluation import PropOptEvaluator\n",
    "evaluator = PropOptEvaluator()\n",
    "input_dict = {'mols': mols}\n",
    "print('Evaluating...')\n",
    "evaluator.eval(input_dict)"
   ],
   "outputs": [],
   "metadata": {}
  }
 ],
 "metadata": {
  "orig_nbformat": 4,
  "language_info": {
   "name": "python",
   "version": "3.9.7",
   "mimetype": "text/x-python",
   "codemirror_mode": {
    "name": "ipython",
    "version": 3
   },
   "pygments_lexer": "ipython3",
   "nbconvert_exporter": "python",
   "file_extension": ".py"
  },
  "kernelspec": {
   "name": "python3",
   "display_name": "Python 3.9.7 64-bit"
  },
  "interpreter": {
   "hash": "aee8b7b246df8f9039afb4144a1f6fd8d2ca17a180786b69acc140d282b71a49"
  }
 },
 "nbformat": 4,
 "nbformat_minor": 2
}